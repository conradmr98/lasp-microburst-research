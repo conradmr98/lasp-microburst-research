{
 "cells": [
  {
   "cell_type": "code",
   "execution_count": 1,
   "metadata": {},
   "outputs": [],
   "source": [
    "%matplotlib inline\n",
    "import math as m\n",
    "import numpy as np\n",
    "import matplotlib.pyplot as plt\n",
    "from SAMPEX_functions import read_counts as read\n",
    "from SAMPEX_functions import mb_finder, iso_calculator\n",
    "import pandas as pd"
   ]
  },
  {
   "cell_type": "code",
   "execution_count": 2,
   "metadata": {},
   "outputs": [],
   "source": [
    "# reading in electron counts file: day ### of year ####\n",
    "year = '1993'\n",
    "start_day = '053'\n",
    "\n",
    "file = 'hhrr' + year + start_day + '.txt'\n",
    "t, r1, r2, r3, r4 = read(file)"
   ]
  },
  {
   "cell_type": "code",
   "execution_count": 3,
   "metadata": {},
   "outputs": [
    {
     "ename": "ValueError",
     "evalue": "too many values to unpack (expected 7)",
     "output_type": "error",
     "traceback": [
      "\u001b[1;31m---------------------------------------------------------------------------\u001b[0m",
      "\u001b[1;31mValueError\u001b[0m                                Traceback (most recent call last)",
      "\u001b[1;32m<ipython-input-3-8e188a4f20e8>\u001b[0m in \u001b[0;36m<module>\u001b[1;34m\u001b[0m\n\u001b[0;32m      1\u001b[0m \u001b[1;31m# find microburst times and N_100, SSD1, SSD4 counts using algorithm\u001b[0m\u001b[1;33m\u001b[0m\u001b[1;33m\u001b[0m\u001b[1;33m\u001b[0m\u001b[0m\n\u001b[0;32m      2\u001b[0m \u001b[1;33m\u001b[0m\u001b[0m\n\u001b[1;32m----> 3\u001b[1;33m \u001b[0mt_microburst\u001b[0m\u001b[1;33m,\u001b[0m \u001b[0mN_100_microburst\u001b[0m\u001b[1;33m,\u001b[0m \u001b[0mr1_microburst\u001b[0m\u001b[1;33m,\u001b[0m \u001b[0mr4_microburst\u001b[0m\u001b[1;33m,\u001b[0m \u001b[0mmb_index\u001b[0m\u001b[1;33m,\u001b[0m \u001b[0mN_100\u001b[0m\u001b[1;33m,\u001b[0m \u001b[0mA_500\u001b[0m \u001b[1;33m=\u001b[0m \u001b[0mmb_finder\u001b[0m\u001b[1;33m(\u001b[0m\u001b[0mt\u001b[0m\u001b[1;33m,\u001b[0m \u001b[0mr1\u001b[0m\u001b[1;33m,\u001b[0m \u001b[0mr2\u001b[0m\u001b[1;33m,\u001b[0m \u001b[0mr3\u001b[0m\u001b[1;33m,\u001b[0m \u001b[0mr4\u001b[0m\u001b[1;33m)\u001b[0m\u001b[1;33m\u001b[0m\u001b[1;33m\u001b[0m\u001b[0m\n\u001b[0m",
      "\u001b[1;31mValueError\u001b[0m: too many values to unpack (expected 7)"
     ]
    }
   ],
   "source": [
    "# find microburst times and N_100, SSD1, SSD4 counts using algorithm\n",
    "\n",
    "t_microburst, N_100_microburst, r1_microburst, r4_microburst, mb_index, MB_mask N_100, A_500 = mb_finder(t, r1, r2, r3, r4)"
   ]
  },
  {
   "cell_type": "code",
   "execution_count": null,
   "metadata": {},
   "outputs": [],
   "source": [
    "# calculation of the isotropy indices of electron counts\n",
    "\n",
    "iso_indices, iso_indices_plot = iso_calculator(r1_microburst, r4_microburst)"
   ]
  },
  {
   "cell_type": "code",
   "execution_count": null,
   "metadata": {},
   "outputs": [],
   "source": [
    "# reading in orbit/attitude data file: day ### of year ####\n",
    "\n",
    "directory = 'D:\\SAMPEX_Data\\\\'\n",
    "OA_file = 'OrbAtt_' + year + start_day + '.txt'\n",
    "OrbAtt_data = pd.read_csv(directory + OA_file, names = ['sec_of_day', 'GEO_Radius', 'GEO_Long', 'GEO_Lat', 'Altitude', 'L_Shell', 'MLT', \n",
    "                                         'SAA_Flag', 'Pitch', 'zenith', 'azimuth', 'Att_Flag'], sep = '\\s+', header = 70)\n",
    "\n",
    "# Augment OrbAtt data to fit counts data\n",
    "\n",
    "L_Shell = OrbAtt_data['L_Shell'].values; sec_of_day = OrbAtt_data['sec_of_day'].values; MLT = OrbAtt_data['MLT'].values;\n",
    "Pitch = OrbAtt_data['Pitch'].values; Lat = OrbAtt_data['GEO_Lat'].values; Long = OrbAtt_data['GEO_Long'].values\n",
    "\n",
    "# trim the start of OrbAtt data to match that of the counts data\n",
    "\n",
    "while sec_of_day[0] != t[0]:\n",
    "    sec_of_day = sec_of_day[1:]; L_Shell = L_Shell[1:]; MLT = MLT[1:]; Pitch = Pitch[1:]; Lat = Lat[1:]; Long = Long[1:]\n",
    "\n",
    "# create OrbAtt arrays with the same length as microburst arrays\n",
    "\n",
    "t_OrbAtt = [sec_of_day[0]]; LS_OrbAtt = [L_Shell[0]]; MLT_OrbAtt = [MLT[0]];\n",
    "P_OrbAtt = [Pitch[0]]; Lat_OrbAtt = [Lat[0]]; Long_OrbAtt = [Long[0]]\n",
    "\n",
    "a = 0  # OrbAtt index\n",
    "b = 0  # Counts index\n",
    "\n",
    "while True:\n",
    "    b += 1\n",
    "    if b >= len(t):\n",
    "        break\n",
    "#    print(b)    #counter\n",
    "    if a+1 < len(sec_of_day):    # this handles end conditions\n",
    "        \n",
    "        if t[b] - t[b-1] > 1:       # this handles breaks in the electron data (catches up the OA data index)\n",
    "            while sec_of_day[a] < int(t[b]):\n",
    "                a += 1\n",
    "\n",
    "        currentsec = sec_of_day[a]\n",
    "        nextsec = sec_of_day[a+1]\n",
    "    \n",
    "        if abs(currentsec - t[b]) >= abs(nextsec - t[b]):\n",
    "            a += 1\n",
    "\n",
    "    t_OrbAtt.append(sec_of_day[a]); LS_OrbAtt.append(L_Shell[a]); MLT_OrbAtt.append(MLT[a]); \n",
    "    P_OrbAtt.append(Pitch[a]); Lat_OrbAtt.append(Lat[a]); Long_OrbAtt.append(Long[a])\n",
    "    \n",
    "t_OrbAtt = np.array(t_OrbAtt); LS_OrbAtt = np.array(LS_OrbAtt); MLT_OrbAtt = np.array(MLT_OrbAtt);\n",
    "P_OrbAtt = np.array(P_OrbAtt); Lat_OrbAtt = np.array(Lat_OrbAtt); Long_OrbAtt = np.array(Long_OrbAtt)\n",
    "\n",
    "t_OrbAtt_mb = t_OrbAtt[mb_index]; LS_OrbAtt_mb = LS_OrbAtt[mb_index]; MLT_OrbAtt_mb = MLT_OrbAtt[mb_index];\n",
    "P_OrbAtt_mb = P_OrbAtt[mb_index]; Lat_OrbAtt_mb = Lat_OrbAtt[mb_index]; Long_OrbAtt_mb = Long_OrbAtt[mb_index]"
   ]
  },
  {
   "cell_type": "markdown",
   "metadata": {},
   "source": [
    "# 1. Iso vs Parameter correlations"
   ]
  },
  {
   "cell_type": "code",
   "execution_count": null,
   "metadata": {},
   "outputs": [],
   "source": [
    "plt.figure(figsize = (30,15))\n",
    "plt.title('Microburst Isotropy vs L-Shell', fontsize = 20)\n",
    "plt.scatter(LS_OrbAtt_mb, iso_indices_plot)\n",
    "plt.xlabel('L-Shell', fontsize = 15)\n",
    "plt.ylabel('Microburst Isotropy [1-scale]', fontsize = 15)\n",
    "plt.ylim(0, 1.1)\n",
    "plt.xlim(3,7)\n",
    "plt.xticks(fontsize = 15)\n",
    "plt.yticks(fontsize = 15)\n",
    "plt.grid(True)"
   ]
  },
  {
   "cell_type": "code",
   "execution_count": null,
   "metadata": {},
   "outputs": [],
   "source": [
    "plt.figure(figsize = (30,15))\n",
    "plt.title('Microburst Isotropy vs Pitch Angle', fontsize = 20)\n",
    "plt.scatter(P_OrbAtt_mb, iso_indices_plot)\n",
    "plt.xlabel('Spacecraft Pitch Angle (degrees)', fontsize = 15)\n",
    "plt.ylabel('Microburst Isotropy [1-scale]', fontsize = 15)\n",
    "plt.ylim(0, 1.1)\n",
    "plt.xticks(fontsize = 15)\n",
    "plt.yticks(fontsize = 15)\n",
    "plt.grid(True)"
   ]
  },
  {
   "cell_type": "code",
   "execution_count": null,
   "metadata": {},
   "outputs": [],
   "source": [
    "plt.figure(figsize = (30,15))\n",
    "plt.title('Microburst Isotropy vs Magnetic Local Time', fontsize = 20)\n",
    "plt.scatter(MLT_OrbAtt_mb, iso_indices_plot)\n",
    "plt.xlabel('Magnetic Local Time', fontsize = 15)\n",
    "plt.ylabel('Microburst Isotropy [1-scale]', fontsize = 15)\n",
    "plt.ylim(0, 1.1)\n",
    "plt.xlim(-1, 25)\n",
    "plt.xticks([0, 3, 6, 9, 12, 15, 18, 21, 24])\n",
    "plt.xticks(fontsize = 15)\n",
    "plt.yticks(fontsize = 15)\n",
    "plt.grid(True)"
   ]
  },
  {
   "cell_type": "code",
   "execution_count": null,
   "metadata": {},
   "outputs": [],
   "source": [
    "plt.figure(figsize = (18,8))\n",
    "plt.title('Microburst Isotropy vs Spacecraft Latitude', fontsize = 20)\n",
    "plt.scatter(Lat_OrbAtt_mb, iso_indices_plot)\n",
    "plt.xlabel('Spacecraft Latitude (degrees)', fontsize = 15)\n",
    "plt.ylabel('Microburst Isotropy [1-scale]', fontsize = 15)\n",
    "plt.xticks(fontsize = 15)\n",
    "plt.yticks(fontsize = 15)\n",
    "plt.grid(True)"
   ]
  },
  {
   "cell_type": "markdown",
   "metadata": {},
   "source": [
    "# 2. Parameter-time/location analysis"
   ]
  },
  {
   "cell_type": "code",
   "execution_count": null,
   "metadata": {
    "scrolled": false
   },
   "outputs": [],
   "source": [
    "# L-Shell vs time plot\n",
    "\n",
    "plt.figure(figsize = (30,15))\n",
    "plt.title('L-Shell vs Time (with microburst markers)', fontsize = 25)\n",
    "plt.plot(sec_of_day, L_Shell)\n",
    "plt.plot(t_microburst, LS_OrbAtt_mb, 'bo')\n",
    "plt.xlabel('Time (seconds)', fontsize = 15)\n",
    "plt.ylabel('L-Shell', fontsize = 15)\n",
    "plt.ylim(0, 10)\n",
    "plt.xticks(fontsize = 15)\n",
    "plt.yticks(fontsize = 15)\n",
    "plt.grid(True)\n",
    "\n",
    "# Latitude vs time plot\n",
    "\n",
    "plt.figure(figsize = (30,15))\n",
    "plt.title('Latitude vs Time (with microburst markers)', fontsize = 25)\n",
    "plt.plot(sec_of_day, Lat)\n",
    "plt.plot(t_microburst, Lat_OrbAtt_mb, 'bo')\n",
    "plt.xlabel('Time (seconds)', fontsize = 15)\n",
    "plt.ylabel('Latitude', fontsize = 15)\n",
    "plt.xticks(fontsize = 15)\n",
    "plt.yticks(fontsize = 15)\n",
    "plt.grid(True)"
   ]
  },
  {
   "cell_type": "code",
   "execution_count": null,
   "metadata": {},
   "outputs": [],
   "source": [
    "# Pitch Angle vs:\n",
    "\n",
    "# time plot\n",
    "\n",
    "plt.figure(figsize = (30,15))\n",
    "plt.title('Pitch Angle vs Time', fontsize = 25)\n",
    "plt.plot(sec_of_day, Pitch)\n",
    "plt.xlabel('Time (seconds)', fontsize = 15)\n",
    "plt.ylabel('Pitch Angle (degrees)', fontsize = 15)\n",
    "#plt.ylim(0, 20)\n",
    "plt.xticks(fontsize = 15)\n",
    "plt.yticks(np.linspace(0, 180, 10), fontsize = 15)\n",
    "plt.grid(True)\n",
    "\n",
    "# lat plot\n",
    "\n",
    "plt.figure(figsize = (30,15))\n",
    "plt.title('Pitch Angle vs Latitude', fontsize = 25)\n",
    "plt.plot(Lat, Pitch)\n",
    "plt.xlabel('Latitude (degrees)', fontsize = 15)\n",
    "plt.ylabel('Pitch Angle (degrees)', fontsize = 15)\n",
    "#plt.ylim(0, 20)\n",
    "plt.xticks(np.linspace(-90, 90, 13), fontsize = 15)\n",
    "plt.yticks(np.linspace(0, 180, 10), fontsize = 15)\n",
    "plt.grid(True)"
   ]
  },
  {
   "cell_type": "code",
   "execution_count": null,
   "metadata": {},
   "outputs": [],
   "source": [
    "# create subplots\n",
    "\n",
    "fig, axes = plt.subplots(1, 2, figsize = (18,8))\n",
    "left = axes[0]\n",
    "right = axes[1]\n",
    "\n",
    "# Position (viewed from above Earth): y vs x\n",
    "\n",
    "t = np.linspace(0, 2*m.pi, 100)  # set of parameters\n",
    "radius_E = 6375                  # approx Earth radius (km)\n",
    "x_circle = radius_E * np.cos(t)  # circle x-val\n",
    "y_circle = radius_E * np.sin(t)  # circle y-val\n",
    "\n",
    "Radius = OrbAtt_data['GEO_Radius'].values\n",
    "Radius = Radius[1:]\n",
    "\n",
    "start_i = 0 \n",
    "length = 1500\n",
    "\n",
    "r = Radius[start_i:start_i+length]; theta = 90 - Lat[start_i:start_i+length];\n",
    "\n",
    "fi = Long[start_i:start_i+length]          # longitude method\n",
    "#fi = MLT[start_i:start_i+length] * 15      # MLT method\n",
    "\n",
    "x_pos = r * np.sin(theta * m.pi/180) * np.cos(fi * m.pi/180); y_pos = r * np.sin(theta * m.pi/180) * np.sin(fi * m.pi/180);\n",
    "z_pos = r * np.cos(theta * m.pi/180)\n",
    "\n",
    "left.plot(x_circle, y_circle, 'g')\n",
    "left.plot(x_pos, y_pos, color = 'k')\n",
    "left.set_title('Position in Orbit (xy-plane)')\n",
    "left.set_xlabel('x-position (km)')\n",
    "left.set_ylabel('y-position (km)')\n",
    "left.legend(['Earth Surface', 'Satellite Orbit'], loc = 'best')\n",
    "left.grid(True)\n",
    "\n",
    "right.plot(x_circle, y_circle, 'g')\n",
    "right.plot(x_pos, z_pos, color = 'k')\n",
    "right.set_title('Position in Orbit (xz-plane)')\n",
    "right.set_xlabel('x-position (km)')\n",
    "right.set_ylabel('z-position (km)')\n",
    "right.legend(['Earth Surface', 'Satellite Orbit'], loc = 'best')\n",
    "right.grid(True)"
   ]
  },
  {
   "cell_type": "markdown",
   "metadata": {},
   "source": [
    "# 3. Parameter-frequency analysis"
   ]
  },
  {
   "cell_type": "code",
   "execution_count": null,
   "metadata": {},
   "outputs": [],
   "source": [
    "# create subplots\n",
    "\n",
    "fig, axes = plt.subplots(1, 2, figsize = (18,8))\n",
    "left = axes[0]\n",
    "right = axes[1]\n",
    "\n",
    "# pitch angle histogram\n",
    "\n",
    "bin_num = 18\n",
    "P_mean = np.mean(P_OrbAtt)\n",
    "domain = 200\n",
    "\n",
    "left.hist(P_OrbAtt, bin_num, color = 'dodgerblue')\n",
    "left.set_title('Pitch Angle Histogram')\n",
    "left.set_xlabel('Pitch Angle (degrees)')\n",
    "left.set_ylabel('Frequency')\n",
    "left.set_xlim([0,180])\n",
    "#left.set_ylim(None, 1000)\n",
    "left.set_xticks(np.linspace(0, 180, 10))\n",
    "left.grid(True)\n",
    "\n",
    "# Magnetic Local Time histogram\n",
    "\n",
    "bin_num = 25\n",
    "MLT_mean = np.mean(MLT_OrbAtt)\n",
    "domain = 26\n",
    "\n",
    "right.hist(MLT_OrbAtt, bin_num, color = 'lightcoral')\n",
    "right.set_title('Magnetic Local Time Histogram')\n",
    "right.set_xlabel('MLT')\n",
    "right.set_ylabel('Frequency')\n",
    "right.set_xlim([0,24])\n",
    "right.set_xticks(np.linspace(0, 24, 9))\n",
    "right.grid(True)"
   ]
  },
  {
   "cell_type": "code",
   "execution_count": null,
   "metadata": {},
   "outputs": [],
   "source": []
  }
 ],
 "metadata": {
  "kernelspec": {
   "display_name": "Python 3",
   "language": "python",
   "name": "python3"
  },
  "language_info": {
   "codemirror_mode": {
    "name": "ipython",
    "version": 3
   },
   "file_extension": ".py",
   "mimetype": "text/x-python",
   "name": "python",
   "nbconvert_exporter": "python",
   "pygments_lexer": "ipython3",
   "version": "3.8.3"
  }
 },
 "nbformat": 4,
 "nbformat_minor": 4
}
