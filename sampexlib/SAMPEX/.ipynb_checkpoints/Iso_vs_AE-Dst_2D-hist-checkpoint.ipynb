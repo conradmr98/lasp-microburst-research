{
 "cells": [
  {
   "cell_type": "code",
   "execution_count": 1,
   "metadata": {},
   "outputs": [],
   "source": [
    "%matplotlib inline\n",
    "import math as m\n",
    "import numpy as np\n",
    "import matplotlib.pyplot as plt\n",
    "import matplotlib.colors\n",
    "from SAMPEX_functions import read_counts as read\n",
    "from SAMPEX_functions import mb_finder, mb_magnitude, iso_calculator, OrbAtt_augment, OrbAtt_augment_loop\n",
    "import pandas as pd\n",
    "import os\n",
    "import pathlib\n",
    "import string"
   ]
  },
  {
   "cell_type": "code",
   "execution_count": 2,
   "metadata": {},
   "outputs": [],
   "source": [
    "# defining file\n",
    "year = '1993'\n",
    "start_day = '1'\n",
    "end_day = '365'\n",
    "Output_Plots = False"
   ]
  },
  {
   "cell_type": "code",
   "execution_count": 3,
   "metadata": {},
   "outputs": [],
   "source": [
    "# code is specific for year 1993\n",
    "OrbAtt_names = np.array(['OrbAtt_secofyear_1993001-1993012.txt', 'OrbAtt_secofyear_1993013-1993039.txt', 'OrbAtt_secofyear_1993040-1993066.txt', \\\n",
    "                         'OrbAtt_secofyear_1993067-1993093.txt', 'OrbAtt_secofyear_1993094-1993120.txt', 'OrbAtt_secofyear_1993121-1993147.txt', \\\n",
    "                         'OrbAtt_secofyear_1993148-1993174.txt', 'OrbAtt_secofyear_1993175-1993201.txt', 'OrbAtt_secofyear_1993202-1993228.txt', \\\n",
    "                         'OrbAtt_secofyear_1993229-1993255.txt', 'OrbAtt_secofyear_1993256-1993282.txt', 'OrbAtt_secofyear_1993283-1993309.txt', \\\n",
    "                         'OrbAtt_secofyear_1993310-1993336.txt', 'OrbAtt_secofyear_1993337-1993363.txt', 'OrbAtt_secofyear_1993364-1993365.txt'])"
   ]
  },
  {
   "cell_type": "code",
   "execution_count": 4,
   "metadata": {},
   "outputs": [],
   "source": [
    "# define mag indices data\n",
    "directory = 'E:\\SAMPEX_Data\\\\'\n",
    "file = 'mag_indices_1993.txt'\n",
    "mag_indices = pd.read_csv(directory + file, header = None, delimiter='\\s+')\n",
    "\n",
    "# define day, hr, min, AE, and Dst\n",
    "ind_day = np.array(mag_indices[1])\n",
    "ind_hr = np.array(mag_indices[2])\n",
    "ind_min = np.array(mag_indices[3])\n",
    "AE = np.array(mag_indices[4])\n",
    "Dst = np.array(mag_indices[5])"
   ]
  },
  {
   "cell_type": "code",
   "execution_count": 5,
   "metadata": {},
   "outputs": [],
   "source": [
    "########### INITIALIZING MB & BG ISO vs PARAM HISTOGRAMS ############\n",
    "max_iso = 1.0\n",
    "max_AE = int(m.ceil(np.max(AE)/100)*100)\n",
    "bin_num = 25\n",
    "\n",
    "iso_bins = np.linspace(0, max_iso, num=bin_num+1)\n",
    "AE_bins = np.linspace(0, max_AE, num=bin_num+1)\n",
    "\n",
    "###### MICROBURST ISO vs PARAMETERS #######\n",
    "# Create empty microburst histograms\n",
    "H_IvAE_MB, _, _ = np.histogram2d(np.array([]), np.array([]), bins=[AE_bins, iso_bins])\n",
    "\n",
    "###### BACKGROUND ISO vs PARAMETERS #######\n",
    "# Create empty background histograms\n",
    "H_IvAE_BG, _, _ = np.histogram2d(np.array([]), np.array([]), bins=[AE_bins, iso_bins])"
   ]
  },
  {
   "cell_type": "code",
   "execution_count": 6,
   "metadata": {
    "scrolled": false
   },
   "outputs": [],
   "source": [
    "for day_of_year in np.arange(int(start_day), int(end_day)+1):\n",
    "    # name the day\n",
    "    if len(str(day_of_year)) == 1:\n",
    "        file = 'hhrr' + year + '00' + str(day_of_year) + '.txt'\n",
    "    elif len(str(day_of_year)) == 2:\n",
    "        file = 'hhrr' + year + '0' + str(day_of_year) + '.txt'\n",
    "    elif len(str(day_of_year)) == 3:\n",
    "        file = 'hhrr' + year + str(day_of_year) + '.txt'\n",
    "\n",
    "    # reading in electron counts files:\n",
    "    t_electrons, r1, r2, r3, r4 = read(year + '_data\\\\' + file)\n",
    "\n",
    "    # reading in orbit/attitude data file\n",
    "    OrbAtt_mask = []\n",
    "    for i in np.arange(len(OrbAtt_names)):\n",
    "        OrbAtt_mask.append(day_of_year >= int(OrbAtt_names[i][21:24]) and day_of_year <= int(OrbAtt_names[i][29:32]))\n",
    "        \n",
    "    OA_file = OrbAtt_names[OrbAtt_mask][0]\n",
    "    \n",
    "    directory = 'E:\\SAMPEX_Data\\\\' + year + '_data\\\\'\n",
    "    OrbAtt_file = pd.read_csv(directory + OA_file, names = ['day', 'hr', 'min', 'sec', 'GEO_Radius', 'GEO_Long', 'GEO_Lat', 'Altitude', \n",
    "                                                            'L_Shell', 'MLT', 'SAA_Flag', 'Pitch', 'zenith', 'azimuth', 'Att_Flag'], sep = '\\s+', header = 70)\n",
    "    \n",
    "    # Augment OrbAtt data to fit counts data\n",
    "    t_OrbAtt, LS_OrbAtt, MLT_OrbAtt, P_OrbAtt, Lat_OrbAtt, Long_OrbAtt, R_OrbAtt, t_electrons, r1, r2, r3, r4 = OrbAtt_augment_loop(t_electrons, r1, r2, r3, r4, OrbAtt_file, day_of_year)\n",
    "\n",
    "\n",
    "    ############## mask for spatial/temporal regions ##############\n",
    "    \n",
    "    mask = (np.abs(90 - P_OrbAtt) >= 50) & (LS_OrbAtt >= 3) & (LS_OrbAtt <= 8)\n",
    "    t_OrbAtt = t_OrbAtt[mask]; LS_OrbAtt = LS_OrbAtt[mask]; MLT_OrbAtt = MLT_OrbAtt[mask];\n",
    "    P_OrbAtt = P_OrbAtt[mask]; Lat_OrbAtt = Lat_OrbAtt[mask]; Long_OrbAtt = Long_OrbAtt[mask];\n",
    "    R_OrbAtt = R_OrbAtt[mask]; t_electrons = t_electrons[mask]; r1 = r1[mask]; r2 = r2[mask]; r3 = r3[mask]; r4 = r4[mask]\n",
    "\n",
    "    ###############################################################\n",
    "    \n",
    "    \n",
    "    # find microburst times and N_100, SSD1, SSD4 counts using algorithm\n",
    "    t_microburst, N_100_microburst, r1_microburst, r4_microburst, mb_index, MB_mask, N_100, A_500 = mb_finder(t_electrons, r1, r2, r3, r4)\n",
    "\n",
    "    # create background counts mask\n",
    "    BG_mask = ~MB_mask\n",
    "\n",
    "    # calculation of the isotropy indices of electron counts\n",
    "    iso_indices_MB = iso_calculator(r1[MB_mask], r4[MB_mask])\n",
    "    iso_indices_BG = iso_calculator(r1[BG_mask], r4[BG_mask])\n",
    "\n",
    "    # find the OrbAtt and magnetic index microburst and backgound parameters\n",
    "    if len(mb_index) > 0:\n",
    "        t_OrbAtt_mb = t_OrbAtt[mb_index]; LS_OrbAtt_mb = LS_OrbAtt[mb_index]; MLT_OrbAtt_mb = MLT_OrbAtt[mb_index];\n",
    "        P_OrbAtt_mb = P_OrbAtt[mb_index]; Lat_OrbAtt_mb = Lat_OrbAtt[mb_index]; Long_OrbAtt_mb = Long_OrbAtt[mb_index];\n",
    "        R_OrbAtt_mb = R_OrbAtt[mb_index];\n",
    "        \n",
    "        AE_day_MB = np.array([])\n",
    "        for t in t_microburst:\n",
    "            hr = t/3600\n",
    "            if t % 3600 != 0:\n",
    "                hr_round = m.ceil(hr)-1\n",
    "                minute = t/60 - hr_round*60\n",
    "                if minute % 5 != 0:\n",
    "                    five_min = (m.ceil(minute/5)-1)*5\n",
    "                elif minute % 5 == 0:\n",
    "                    five_min = int(minute)\n",
    "            elif t % 3600 == 0:\n",
    "                hr_round = int(hr)\n",
    "                minute = 0\n",
    "                five_min = 0\n",
    "            \n",
    "            if hr_round == 24:\n",
    "                day_of_year_new = day_of_year + 1\n",
    "                hr_round = 0\n",
    "                AE_MB = AE[(ind_day == day_of_year_new) & (ind_hr == hr_round) & (ind_min == five_min)]    \n",
    "        \n",
    "            elif hr_round != 24:\n",
    "                AE_MB = AE[(ind_day == day_of_year) & (ind_hr == hr_round) & (ind_min == five_min)]\n",
    "            \n",
    "            AE_day_MB = np.append(AE_day_MB, AE_MB)\n",
    "\n",
    "    t_BG = t_electrons[BG_mask]\n",
    "    AE_day_BG = np.array([])\n",
    "    for t in t_BG:\n",
    "        hr = t/3600\n",
    "        if t % 3600 != 0:\n",
    "            hr_round = m.ceil(hr)-1\n",
    "            minute = t/60 - hr_round*60\n",
    "            if minute % 5 != 0:\n",
    "                five_min = (m.ceil(minute/5)-1)*5\n",
    "            elif minute % 5 == 0:\n",
    "                five_min = int(minute)\n",
    "            \n",
    "        elif t % 3600 == 0:\n",
    "            hr_round = int(hr)\n",
    "            minute = 0\n",
    "            five_min = 0\n",
    "            \n",
    "        if hr_round == 24:\n",
    "            day_of_year_new = day_of_year + 1\n",
    "            hr_round = 0\n",
    "            AE_BG = AE[(ind_day == day_of_year_new) & (ind_hr == hr_round) & (ind_min == five_min)]    \n",
    "        \n",
    "        elif hr_round != 24:\n",
    "            AE_BG = AE[(ind_day == day_of_year) & (ind_hr == hr_round) & (ind_min == five_min)]\n",
    "        \n",
    "        AE_day_BG = np.append(AE_day_BG, AE_BG)\n",
    "    \n",
    "    ###### MICROBURST ISO vs PARAMETERS #######\n",
    "    # Create histograms for day #\n",
    "    if len(mb_index) > 0:\n",
    "        H_IvAE_MB_day, _, _ = np.histogram2d(AE_day_MB, iso_indices_MB, bins=[AE_bins, iso_bins])\n",
    "    \n",
    "        # Add histograms for day # to cumulative histograms\n",
    "        H_IvAE_MB += H_IvAE_MB_day\n",
    "    \n",
    "    ###### BACKGROUND ISO vs PARAMETERS #######\n",
    "    # Create histograms for day #\n",
    "    H_IvAE_BG_day, _, _ = np.histogram2d(AE_day_BG, iso_indices_BG, bins=[AE_bins, iso_bins])\n",
    "    \n",
    "    # Add histograms for day # to cumulative histograms\n",
    "    H_IvAE_BG += H_IvAE_BG_day"
   ]
  },
  {
   "cell_type": "code",
   "execution_count": 12,
   "metadata": {
    "scrolled": false
   },
   "outputs": [
    {
     "data": {
      "text/plain": [
       "<matplotlib.collections.QuadMesh at 0x28381a77c10>"
      ]
     },
     "execution_count": 12,
     "metadata": {},
     "output_type": "execute_result"
    },
    {
     "data": {
      "image/png": "[encoded data removed]",
      "text/plain": [
       "<Figure size 720x720 with 1 Axes>"
      ]
     },
     "metadata": {
      "needs_background": "light"
     },
     "output_type": "display_data"
    },
    {
     "data": {
      "image/png": "[encoded data removed]",
      "text/plain": [
       "<Figure size 720x720 with 1 Axes>"
      ]
     },
     "metadata": {
      "needs_background": "light"
     },
     "output_type": "display_data"
    },
    {
     "data": {
      "image/png": "[encoded data removed]",
      "text/plain": [
       "<Figure size 720x720 with 1 Axes>"
      ]
     },
     "metadata": {
      "needs_background": "light"
     },
     "output_type": "display_data"
    }
   ],
   "source": [
    "plt.figure(figsize=(10,10))\n",
    "plt.pcolormesh(AE_bins, iso_bins, H_IvAE_MB.T, vmin=0)\n",
    "\n",
    "plt.figure(figsize=(10,10))\n",
    "plt.pcolormesh(AE_bins, iso_bins, H_IvAE_BG.T, vmin=0)\n",
    "\n",
    "plt.figure(figsize=(10,10))\n",
    "plt.pcolormesh(AE_bins, iso_bins, (H_IvAE_MB/np.max(H_IvAE_MB) - H_IvAE_BG/np.max(H_IvAE_BG)).T, vmin=0)"
   ]
  },
  {
   "cell_type": "code",
   "execution_count": null,
   "metadata": {},
   "outputs": [],
   "source": []
  }
 ],
 "metadata": {
  "kernelspec": {
   "display_name": "Python 3",
   "language": "python",
   "name": "python3"
  },
  "language_info": {
   "codemirror_mode": {
    "name": "ipython",
    "version": 3
   },
   "file_extension": ".py",
   "mimetype": "text/x-python",
   "name": "python",
   "nbconvert_exporter": "python",
   "pygments_lexer": "ipython3",
   "version": "3.8.3"
  }
 },
 "nbformat": 4,
 "nbformat_minor": 4
}
