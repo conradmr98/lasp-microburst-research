{
 "cells": [
  {
   "cell_type": "code",
   "execution_count": 41,
   "metadata": {},
   "outputs": [],
   "source": [
    "%matplotlib inline\n",
    "import math as m\n",
    "import numpy as np\n",
    "import matplotlib.pyplot as plt\n",
    "import matplotlib.colors\n",
    "from SAMPEX_functions import read_counts as read\n",
    "from SAMPEX_functions import mb_finder, read_days, mb_magnitude, iso_calculator, OrbAtt_augment_loop\n",
    "import pandas as pd\n",
    "import os\n",
    "import pathlib\n",
    "import string\n",
    "import datetime"
   ]
  },
  {
   "cell_type": "code",
   "execution_count": 42,
   "metadata": {},
   "outputs": [
    {
     "data": {
      "text/plain": [
       "True"
      ]
     },
     "execution_count": 42,
     "metadata": {},
     "output_type": "execute_result"
    }
   ],
   "source": [
    "'1993335-1993340' == '1993335-1993340'"
   ]
  },
  {
   "cell_type": "code",
   "execution_count": 43,
   "metadata": {},
   "outputs": [],
   "source": [
    "# defining files\n",
    "storms = np.array(['1993047-1993053', '1993067-1993069', '1993070-1993071', '1993093-1993099', '1993127-1993133', '1993254-1993260', \\\n",
    "          '1993280-1993286', '1993306-1993312', '1993335-1993340'])\n",
    "\n",
    "bad_storms = np.array(['1993127-1993133', '1993280-1993286', '1993335-1993340'])\n",
    "\n",
    "for bad in bad_storms:\n",
    "    storms = storms[storms != bad]\n",
    "\n",
    "# reading in mag indices\n",
    "# define mag indices data\n",
    "directory = 'E:\\SAMPEX_Data\\\\'\n",
    "file = 'mag_indices_1993.txt'\n",
    "mag_indices = pd.read_csv(directory + file, header = None, delimiter='\\s+')\n",
    "\n",
    "# define day, hr, min, AE, and Dst\n",
    "ind_day = np.array(mag_indices[1])\n",
    "ind_hr = np.array(mag_indices[2])\n",
    "ind_min = np.array(mag_indices[3])\n",
    "t_ind = ind_day*3600*24 + ind_hr*3600 + ind_min*60\n",
    "\n",
    "AE = np.array(mag_indices[4])\n",
    "AE_max = np.max(AE)\n",
    "Dst = np.array(mag_indices[5])\n",
    "\n",
    "mag_indices = pd.read_csv(directory + file, header = None, delimiter='\\s+')\n",
    "\n",
    "# defining month\n",
    "month_list = ['Jan', 'Feb', 'Mar', 'Apr', 'May', 'Jun', 'Jul', 'Aug', 'Sep', 'Oct', 'Nov', 'Dec']\n",
    "\n",
    "# code is specific for year 1993\n",
    "OrbAtt_names = np.array(['OrbAtt_secofyear_1993001-1993012.txt', 'OrbAtt_secofyear_1993013-1993039.txt', 'OrbAtt_secofyear_1993040-1993066.txt', \\\n",
    "                         'OrbAtt_secofyear_1993067-1993093.txt', 'OrbAtt_secofyear_1993094-1993120.txt', 'OrbAtt_secofyear_1993121-1993147.txt', \\\n",
    "                         'OrbAtt_secofyear_1993148-1993174.txt', 'OrbAtt_secofyear_1993175-1993201.txt', 'OrbAtt_secofyear_1993202-1993228.txt', \\\n",
    "                         'OrbAtt_secofyear_1993229-1993255.txt', 'OrbAtt_secofyear_1993256-1993282.txt', 'OrbAtt_secofyear_1993283-1993309.txt', \\\n",
    "                         'OrbAtt_secofyear_1993310-1993336.txt', 'OrbAtt_secofyear_1993337-1993363.txt', 'OrbAtt_secofyear_1993364-1993365.txt'])"
   ]
  },
  {
   "cell_type": "code",
   "execution_count": 44,
   "metadata": {},
   "outputs": [
    {
     "name": "stdout",
     "output_type": "stream",
     "text": [
      "Extracting data from storm 1993047-1993053 ...\n",
      "Extracting data from storm 1993067-1993069 ...\n",
      "Extracting data from storm 1993070-1993071 ...\n",
      "Extracting data from storm 1993093-1993099 ...\n",
      "Extracting data from storm 1993254-1993260 ...\n",
      "Extracting data from storm 1993306-1993312 ...\n"
     ]
    }
   ],
   "source": [
    "iso_MB_prestorm_list = np.array([])\n",
    "iso_MB_mainphase_list = np.array([])\n",
    "iso_MB_recovery_list = np.array([])\n",
    "iso_BG_prestorm_list = np.array([])\n",
    "iso_BG_mainphase_list = np.array([])\n",
    "iso_BG_recovery_list = np.array([])\n",
    "\n",
    "t_MB_list = np.array([])\n",
    "AE_MB_list = np.array([])\n",
    "iso_MB_AE_list = np.array([])\n",
    "\n",
    "for storm in storms:\n",
    "    print(f'Extracting data from storm {storm} ...')\n",
    "    # defining file\n",
    "    year = int(storm[0:4])\n",
    "    start_day = int(storm[4:7])\n",
    "    end_day = int(storm[12:])\n",
    "    num_days = end_day - start_day + 1\n",
    "    \n",
    "    iso_MB_storm = np.array([])\n",
    "    iso_BG_storm = np.array([])\n",
    "    t_MB_storm = np.array([])\n",
    "    t_BG_storm = np.array([])\n",
    "    for day_of_year in np.arange(start_day, end_day+1):\n",
    "        # name the day\n",
    "        if len(str(day_of_year)) == 1:\n",
    "            file = 'hhrr' + str(year) + '00' + str(day_of_year) + '.txt'\n",
    "        elif len(str(day_of_year)) == 2:\n",
    "            file = 'hhrr' + str(year) + '0' + str(day_of_year) + '.txt'\n",
    "        elif len(str(day_of_year)) == 3:\n",
    "            file = 'hhrr' + str(year) + str(day_of_year) + '.txt'\n",
    "\n",
    "        # reading in electron counts files:\n",
    "        t_electrons, r1, r2, r3, r4 = read(str(year) + '_data\\\\' + file)\n",
    "\n",
    "        # reading in orbit/attitude data file\n",
    "        OrbAtt_mask = []\n",
    "        for i in np.arange(len(OrbAtt_names)):\n",
    "            OrbAtt_mask.append(day_of_year >= int(OrbAtt_names[i][21:24]) and day_of_year <= int(OrbAtt_names[i][29:32]))\n",
    "        \n",
    "        OA_file = OrbAtt_names[OrbAtt_mask][0]\n",
    "    \n",
    "        directory = 'E:\\SAMPEX_Data\\\\' + str(year) + '_data\\\\'\n",
    "        OrbAtt_file = pd.read_csv(directory + OA_file, names = ['day', 'hr', 'min', 'sec', 'GEO_Radius', 'GEO_Long', 'GEO_Lat', 'Altitude', \n",
    "                                                            'L_Shell', 'MLT', 'SAA_Flag', 'Pitch', 'zenith', 'azimuth', 'Att_Flag'], sep = '\\s+', header = 70)\n",
    "    \n",
    "        # Augment OrbAtt data to fit counts data\n",
    "        t_OrbAtt, LS_OrbAtt, MLT_OrbAtt, P_OrbAtt, Lat_OrbAtt, Long_OrbAtt, R_OrbAtt, t_electrons, r1, r2, r3, r4 = OrbAtt_augment_loop(t_electrons, r1, r2, r3, r4, OrbAtt_file, day_of_year)\n",
    "\n",
    "\n",
    "        ############## mask for spatial/temporal regions ##############\n",
    "        \n",
    "        mask = (np.abs(90 - P_OrbAtt) >= 50) & (LS_OrbAtt >= 3) & (LS_OrbAtt <= 8)\n",
    "        t_OrbAtt = t_OrbAtt[mask]; LS_OrbAtt = LS_OrbAtt[mask]; MLT_OrbAtt = MLT_OrbAtt[mask];\n",
    "        P_OrbAtt = P_OrbAtt[mask]; Lat_OrbAtt = Lat_OrbAtt[mask]; Long_OrbAtt = Long_OrbAtt[mask];\n",
    "        R_OrbAtt = R_OrbAtt[mask]; t_electrons = t_electrons[mask]; r1 = r1[mask]; r2 = r2[mask]; r3 = r3[mask]; r4 = r4[mask]\n",
    "\n",
    "        ###############################################################\n",
    "    \n",
    "    \n",
    "        # find microburst times and N_100, SSD1, SSD4 counts using algorithm\n",
    "        t_microburst, N_100_microburst, r1_microburst, r4_microburst, mb_index, MB_mask, N_100, A_500 = mb_finder(t_electrons, r1, r2, r3, r4)\n",
    "\n",
    "        # create background counts mask\n",
    "        BG_mask = ~MB_mask\n",
    "\n",
    "        # calculation of the isotropy indices of electron counts\n",
    "        iso_indices_MB = iso_calculator(r1[MB_mask], r4[MB_mask])\n",
    "        iso_indices_BG = iso_calculator(r1[BG_mask], r4[BG_mask])\n",
    "    \n",
    "        # find the OrbAtt and magnetic index microburst and backgound parameters\n",
    "        if len(mb_index) > 0:\n",
    "            t_OrbAtt_MB = t_OrbAtt[mb_index]\n",
    "            t_MB = t_OrbAtt_MB + day_of_year*3600*24\n",
    "            t_MB_storm = np.append(t_MB_storm, t_MB)\n",
    "            iso_MB_storm = np.append(iso_MB_storm, iso_indices_MB)\n",
    "        \n",
    "        t_OrbAtt_BG = t_OrbAtt[BG_mask]\n",
    "        t_BG = t_OrbAtt_BG + day_of_year*3600*24\n",
    "        t_BG_storm = np.append(t_BG_storm, t_BG)\n",
    "        iso_BG_storm = np.append(iso_BG_storm, iso_indices_BG)\n",
    "    \n",
    "    # mask indices for correct storm time period\n",
    "    t_storm = (ind_hr*3600 + ind_min*60)[(ind_day >= start_day) & (ind_day <= end_day)]\n",
    "    AE_storm = AE[(ind_day >= start_day) & (ind_day <= end_day)]\n",
    "    Dst_storm = Dst[(ind_day >= start_day) & (ind_day <= end_day)]\n",
    "    \n",
    "    # find _ hr average of the Dst indices\n",
    "    bin_size = 3              # in hours\n",
    "    interval = 24*num_days    # in hours\n",
    "\n",
    "    t_perhrs = np.arange(0, interval*12, bin_size*12)\n",
    "    index_perhrs = np.arange(bin_size*12-1, interval*12, bin_size*12)\n",
    "\n",
    "    Dst_series = pd.Series(Dst_storm)\n",
    "    Dst_perhrs = np.array(Dst_series.rolling(bin_size*12, center=False).min())[index_perhrs]\n",
    "    \n",
    "    # Isotropy-Dst study\n",
    "    # categorize Dst indices\n",
    "    t_max = t_perhrs[Dst_perhrs == np.max(Dst_perhrs)]; t_Dmax = [t_max] if isinstance(t_max, int) else t_max\n",
    "    t_min = t_perhrs[Dst_perhrs == np.min(Dst_perhrs)]; t_Dmin = [t_min] if isinstance(t_min, int) else t_min\n",
    "    \n",
    "    t_Dmax_sec = t_Dmax[0]*300 + start_day*3600*24\n",
    "    t_Dmin_sec = t_Dmin[0]*300 + start_day*3600*24\n",
    "\n",
    "    # define stormtime regions\n",
    "    iso_MB_prestorm = iso_MB_storm[t_MB_storm <= t_Dmax_sec]\n",
    "    iso_BG_prestorm = iso_BG_storm[t_BG_storm <= t_Dmax_sec]\n",
    "    \n",
    "    iso_MB_mainphase = iso_MB_storm[(t_MB_storm >= t_Dmax_sec) & (t_MB_storm <= t_Dmin_sec)]\n",
    "    iso_BG_mainphase = iso_BG_storm[(t_BG_storm >= t_Dmax_sec) & (t_BG_storm <= t_Dmin_sec)]\n",
    "    \n",
    "    iso_MB_recovery = iso_MB_storm[t_MB_storm >= t_Dmin_sec]\n",
    "    iso_BG_recovery = iso_BG_storm[t_BG_storm >= t_Dmin_sec]\n",
    "    \n",
    "    # collect in epoch array\n",
    "    iso_MB_prestorm_list = np.append(iso_MB_prestorm_list, iso_MB_prestorm)\n",
    "    iso_MB_mainphase_list = np.append(iso_MB_mainphase_list, iso_MB_mainphase)\n",
    "    iso_MB_recovery_list = np.append(iso_MB_recovery_list, iso_MB_recovery)\n",
    "    \n",
    "    iso_BG_prestorm_list = np.append(iso_BG_prestorm_list, iso_BG_prestorm)\n",
    "    iso_BG_mainphase_list = np.append(iso_BG_mainphase_list, iso_BG_mainphase)\n",
    "    iso_BG_recovery_list = np.append(iso_BG_recovery_list, iso_BG_recovery)\n",
    "\n",
    "    \n",
    "    \n",
    "    # Isotropy-AE study\n",
    "    # Align isotropy and AE values\n",
    "    t_storm_MB = np.array([])\n",
    "    AE_storm_MB = np.array([])\n",
    "    for t in t_MB_storm:\n",
    "        day = m.ceil(t/(3600*24))-1\n",
    "        sec_of_day = (t-day*3600*24)\n",
    "        hr = sec_of_day/3600\n",
    "    \n",
    "        if sec_of_day % 3600 != 0:\n",
    "            hr_round = m.ceil(hr)-1\n",
    "            minute = sec_of_day/60 - hr_round*60\n",
    "            if minute % 5 != 0:\n",
    "                five_min = (m.ceil(minute/5)-1)*5\n",
    "            elif minute % 5 == 0:\n",
    "                five_min = int(minute)\n",
    "\n",
    "        elif sec_of_day % 3600 == 0:\n",
    "            hr_round = int(hr)\n",
    "            minute = 0\n",
    "            five_min = 0\n",
    "            \n",
    "        if hr_round == 24:\n",
    "            day_new = day + 1\n",
    "            hr_round = 0\n",
    "            numm+=1\n",
    "            t_AE_MB = t_ind[(ind_day == day_new) & (ind_hr == hr_round) & (ind_min == five_min)]\n",
    "            AE_MB = AE[(ind_day == day_new) & (ind_hr == hr_round) & (ind_min == five_min)]\n",
    "        \n",
    "        elif hr_round != 24:\n",
    "            numm+=1\n",
    "            t_AE_MB = t_ind[(ind_day == day) & (ind_hr == hr_round) & (ind_min == five_min)]\n",
    "            AE_MB = AE[(ind_day == day) & (ind_hr == hr_round) & (ind_min == five_min)]\n",
    "    \n",
    "        t_storm_MB = np.append(t_storm_MB, t_AE_MB)\n",
    "        AE_storm_MB = np.append(AE_storm_MB, AE_MB)\n",
    "    \n",
    "    t_MB_list = np.append(t_MB_list, t_storm_MB)\n",
    "    AE_MB_list = np.append(AE_MB_list, AE_storm_MB)\n",
    "    iso_MB_AE_list = np.append(iso_MB_AE_list, iso_MB_storm)"
   ]
  },
  {
   "cell_type": "code",
   "execution_count": 45,
   "metadata": {},
   "outputs": [
    {
     "name": "stdout",
     "output_type": "stream",
     "text": [
      "11890\n",
      "11890\n",
      "11890\n"
     ]
    }
   ],
   "source": [
    "print(len(t_MB_list))\n",
    "print(len(AE_MB_list))\n",
    "print(len(iso_MB_AE_list))"
   ]
  },
  {
   "cell_type": "code",
   "execution_count": 46,
   "metadata": {},
   "outputs": [],
   "source": [
    "t = 8045707\n",
    "sec_of_day = (t-day*3600*24)\n",
    "day = m.ceil(t/(3600*24))-1\n",
    "hr = sec_of_day/3600"
   ]
  },
  {
   "cell_type": "code",
   "execution_count": 47,
   "metadata": {},
   "outputs": [
    {
     "name": "stdout",
     "output_type": "stream",
     "text": [
      "-18911093\n"
     ]
    }
   ],
   "source": [
    "print(sec_of_day)"
   ]
  },
  {
   "cell_type": "code",
   "execution_count": 48,
   "metadata": {},
   "outputs": [
    {
     "name": "stdout",
     "output_type": "stream",
     "text": [
      "[   0.  110.  220.  330.  440.  550.  660.  770.  880.  990. 1100. 1210.\n",
      " 1320. 1430. 1540. 1650. 1760. 1870. 1980. 2090. 2200.]\n"
     ]
    }
   ],
   "source": [
    "bin_num = 20\n",
    "AE_bins = np.linspace(0, int(m.ceil(np.max(AE)/100)*100), num=bin_num+1)\n",
    "print(AE_bins)\n"
   ]
  },
  {
   "cell_type": "code",
   "execution_count": 49,
   "metadata": {},
   "outputs": [
    {
     "data": {
      "image/png": "[encoded data removed]",
      "text/plain": [
       "<Figure size 720x504 with 1 Axes>"
      ]
     },
     "metadata": {
      "needs_background": "light"
     },
     "output_type": "display_data"
    }
   ],
   "source": [
    "labels = np.array(['Initial Phase', 'Main Phase', 'Recovery Phase'])\n",
    "labels_x = np.array([1.0,2.0,3.0])\n",
    "\n",
    "iso_MB_avgs = np.array([np.nanmean(iso_MB_prestorm_list), np.nanmean(iso_MB_mainphase_list), np.nanmean(iso_MB_recovery_list)])\n",
    "iso_MB_std = np.array([np.nanstd(iso_MB_prestorm_list), np.nanstd(iso_MB_mainphase_list), np.nanstd(iso_MB_recovery_list)])\n",
    "\n",
    "plt.figure(figsize = (10,7))\n",
    "plt.title(f'Average Microburst Isotropy vs Stormtime Phases', fontsize = 15)\n",
    "plt.scatter(labels_x, iso_MB_avgs, c='royalblue', s = 60, zorder=3)\n",
    "plt.errorbar(labels_x, iso_MB_avgs, yerr = iso_MB_std, fmt='none', elinewidth = 2.0, capsize=5, ecolor = 'grey', zorder=2)\n",
    "plt.xlim(0, np.max(labels_x)+1.0)\n",
    "plt.xticks(ticks=labels_x, labels=labels, fontsize=12)\n",
    "plt.ylim(0,1.1)\n",
    "plt.ylabel('Isotropy', fontsize=14)\n",
    "plt.grid(axis='y')"
   ]
  },
  {
   "cell_type": "code",
   "execution_count": 52,
   "metadata": {},
   "outputs": [
    {
     "data": {
      "image/png": "[encoded data removed]",
      "text/plain": [
       "<Figure size 720x504 with 1 Axes>"
      ]
     },
     "metadata": {
      "needs_background": "light"
     },
     "output_type": "display_data"
    }
   ],
   "source": [
    "labels = np.array(['Initial Phase', 'Main Phase', 'Recovery Phase'])\n",
    "labels_x = np.array([1.0,2.0,3.0])\n",
    "\n",
    "iso_BG_avgs = np.array([np.nanmean(iso_BG_prestorm_list), np.nanmean(iso_BG_mainphase_list), np.nanmean(iso_BG_recovery_list)])\n",
    "iso_BG_std = np.array([np.nanstd(iso_BG_prestorm_list), np.nanstd(iso_BG_mainphase_list), np.nanstd(iso_BG_recovery_list)])\n",
    "\n",
    "plt.figure(figsize = (10,7))\n",
    "plt.title(f'Average Background Isotropy vs Stormtime Phases', fontsize = 15)\n",
    "plt.scatter(labels_x, iso_BG_avgs, c='sandybrown', s = 60, zorder=3)\n",
    "plt.errorbar(labels_x, iso_BG_avgs, yerr = iso_BG_std, fmt='none', elinewidth = 2.0, capsize=5, ecolor = 'grey', zorder=2)\n",
    "plt.xlim(0, np.max(labels_x)+1)\n",
    "plt.xticks(ticks=labels_x, labels=labels, fontsize=12)\n",
    "plt.ylim(0,1.1)\n",
    "plt.ylabel('Isotropy', fontsize=14)\n",
    "plt.grid(axis='y')"
   ]
  },
  {
   "cell_type": "code",
   "execution_count": 53,
   "metadata": {},
   "outputs": [
    {
     "data": {
      "text/plain": [
       "<matplotlib.collections.PathCollection at 0x1f186f18460>"
      ]
     },
     "execution_count": 53,
     "metadata": {},
     "output_type": "execute_result"
    },
    {
     "data": {
      "image/png": "[encoded data removed]",
      "text/plain": [
       "<Figure size 432x288 with 1 Axes>"
      ]
     },
     "metadata": {
      "needs_background": "light"
     },
     "output_type": "display_data"
    }
   ],
   "source": [
    "plt.scatter(AE_MB_list, iso_MB_AE_list)"
   ]
  },
  {
   "cell_type": "code",
   "execution_count": null,
   "metadata": {},
   "outputs": [],
   "source": []
  }
 ],
 "metadata": {
  "kernelspec": {
   "display_name": "Python 3",
   "language": "python",
   "name": "python3"
  },
  "language_info": {
   "codemirror_mode": {
    "name": "ipython",
    "version": 3
   },
   "file_extension": ".py",
   "mimetype": "text/x-python",
   "name": "python",
   "nbconvert_exporter": "python",
   "pygments_lexer": "ipython3",
   "version": "3.8.8"
  }
 },
 "nbformat": 4,
 "nbformat_minor": 4
}
