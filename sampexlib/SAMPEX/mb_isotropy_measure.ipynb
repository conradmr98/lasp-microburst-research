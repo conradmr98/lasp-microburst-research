{
 "cells": [
  {
   "cell_type": "code",
   "execution_count": 4,
   "metadata": {},
   "outputs": [],
   "source": [
    "import math as m\n",
    "import numpy as np\n",
    "import matplotlib.pyplot as plt\n",
    "%matplotlib inline\n",
    "from SAMPEX_functions import read_counts as read\n",
    "from SAMPEX_functions import mb_finder"
   ]
  },
  {
   "cell_type": "code",
   "execution_count": 5,
   "metadata": {},
   "outputs": [],
   "source": [
    "# reading in electron counts file: day ### of year ####\n",
    "\n",
    "file = 'hhrr1993308.txt'\n",
    "t, r1, r2, r3, r4 = read(file)"
   ]
  },
  {
   "cell_type": "code",
   "execution_count": 6,
   "metadata": {},
   "outputs": [
    {
     "name": "stdout",
     "output_type": "stream",
     "text": [
      "Microburst Isotropy Index = 0.7191\n",
      "\n",
      "Where a Microburst Isotropy Index of 1 indicates full isotropy (0% difference in SSD1 and SSD4 counts) \n",
      "and an Microburst Isotropy Index of 0 indicates full anisotropy (100% difference in SSD1 and SSD4 counts)\n",
      "\n"
     ]
    }
   ],
   "source": [
    "# find microburst times and N_100, SSD1, SSD4 counts using algorithm\n",
    "\n",
    "t_microburst, N_100_microburst, r1_microburst, r4_microburst, mb_index, N_100, A_500 = mb_finder(t, r1, r2, r3, r4)\n",
    "        \n",
    "# calculation of the isotropy indices of electron counts\n",
    "\n",
    "iso_indices = []        # for data analysis purposes\n",
    "iso_indices_plot = []   # for plotting purposes\n",
    "\n",
    "for i, ii in zip(r1_microburst, r4_microburst):\n",
    "    if ii >= 20 and i >= 20:\n",
    "        if  ii != 0 and ii > i:\n",
    "            iso_index = i/ii\n",
    "            iso_indices.append(iso_index)\n",
    "            iso_indices_plot.append(iso_index)\n",
    "        elif  i != 0 and i > ii:\n",
    "            iso_index = ii/i\n",
    "            iso_indices.append(iso_index)\n",
    "            iso_indices_plot.append(iso_index)\n",
    "        elif  ii == i:\n",
    "            iso_index = 1\n",
    "            iso_indices.append(iso_index)\n",
    "            iso_indices_plot.append(iso_index)\n",
    "    else:\n",
    "        # when counts are too low, they do not contribute to the isotropy day-average isotropy index\n",
    "        iso_index = 0\n",
    "        iso_indices_plot.append(iso_index)\n",
    "\n",
    "iso_indices = np.array(iso_indices)\n",
    "iso_indices_plot = np.array(iso_indices_plot)    \n",
    "        \n",
    "# calculation the average isotropy index of the microburst counts\n",
    "\n",
    "iso_index = np.average(iso_indices)\n",
    "print(f\"Microburst Isotropy Index = {iso_index:.4f}\")\n",
    "print(\"\"\"\n",
    "Where a Microburst Isotropy Index of 1 indicates full isotropy (0% difference in SSD1 and SSD4 counts) \n",
    "and an Microburst Isotropy Index of 0 indicates full anisotropy (100% difference in SSD1 and SSD4 counts)\n",
    "\"\"\")"
   ]
  }
 ],
 "metadata": {
  "kernelspec": {
   "display_name": "Python 3",
   "language": "python",
   "name": "python3"
  },
  "language_info": {
   "codemirror_mode": {
    "name": "ipython",
    "version": 3
   },
   "file_extension": ".py",
   "mimetype": "text/x-python",
   "name": "python",
   "nbconvert_exporter": "python",
   "pygments_lexer": "ipython3",
   "version": "3.8.3"
  }
 },
 "nbformat": 4,
 "nbformat_minor": 4
}
