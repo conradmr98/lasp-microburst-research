{
 "cells": [
  {
   "cell_type": "code",
   "execution_count": 33,
   "metadata": {},
   "outputs": [],
   "source": [
    "%matplotlib inline\n",
    "import math as m\n",
    "import numpy as np\n",
    "import matplotlib.pyplot as plt\n",
    "import matplotlib.colors\n",
    "from SAMPEX_functions import read_counts as read\n",
    "from SAMPEX_functions import mb_finder, mb_magnitude, iso_calculator, OrbAtt_augment, OrbAtt_augment_loop\n",
    "import pandas as pd\n",
    "import os\n",
    "import pathlib\n",
    "import string"
   ]
  },
  {
   "cell_type": "code",
   "execution_count": 34,
   "metadata": {},
   "outputs": [],
   "source": [
    "# defining file\n",
    "year = '1993'\n",
    "start_day = '1'\n",
    "end_day = '365'\n",
    "Output_Plots = False"
   ]
  },
  {
   "cell_type": "code",
   "execution_count": 35,
   "metadata": {},
   "outputs": [],
   "source": [
    "# code is specific for year 1993\n",
    "OrbAtt_names = np.array(['OrbAtt_secofyear_1993001-1993012.txt', 'OrbAtt_secofyear_1993013-1993039.txt', 'OrbAtt_secofyear_1993040-1993066.txt', \\\n",
    "                         'OrbAtt_secofyear_1993067-1993093.txt', 'OrbAtt_secofyear_1993094-1993120.txt', 'OrbAtt_secofyear_1993121-1993147.txt', \\\n",
    "                         'OrbAtt_secofyear_1993148-1993174.txt', 'OrbAtt_secofyear_1993175-1993201.txt', 'OrbAtt_secofyear_1993202-1993228.txt', \\\n",
    "                         'OrbAtt_secofyear_1993229-1993255.txt', 'OrbAtt_secofyear_1993256-1993282.txt', 'OrbAtt_secofyear_1993283-1993309.txt', \\\n",
    "                         'OrbAtt_secofyear_1993310-1993336.txt', 'OrbAtt_secofyear_1993337-1993363.txt', 'OrbAtt_secofyear_1993364-1993365.txt'])"
   ]
  },
  {
   "cell_type": "code",
   "execution_count": 36,
   "metadata": {},
   "outputs": [],
   "source": [
    "########### INITIALIZING MB & BG ISO vs PARAM HISTOGRAMS ############\n",
    "max_iso = 1.0\n",
    "bin_num = 25\n",
    "\n",
    "PA_bins = np.linspace(0, 180, num=bin_num+1)\n",
    "MLT_bins = np.linspace(0, 24, num=bin_num+1)\n",
    "\n",
    "###### MICROBURST ISO vs PARAMETERS #######\n",
    "# Create empty microburst histograms\n",
    "\n",
    "H_PAvMLT_MB, _, _ = np.histogram2d(np.array([]), np.array([]), bins=[MLT_bins, PA_bins])\n",
    "\n",
    "###### BACKGROUND ISO vs PARAMETERS #######\n",
    "# Create empty background histograms\n",
    "\n",
    "H_PAvMLT_BG, _, _ = np.histogram2d(np.array([]), np.array([]), bins=[MLT_bins, PA_bins])"
   ]
  },
  {
   "cell_type": "code",
   "execution_count": 37,
   "metadata": {},
   "outputs": [],
   "source": [
    "for day_of_year in np.arange(int(start_day), int(end_day)+1):\n",
    "    # name the day\n",
    "    if len(str(day_of_year)) == 1:\n",
    "        file = 'hhrr' + year + '00' + str(day_of_year) + '.txt'\n",
    "    elif len(str(day_of_year)) == 2:\n",
    "        file = 'hhrr' + year + '0' + str(day_of_year) + '.txt'\n",
    "    elif len(str(day_of_year)) == 3:\n",
    "        file = 'hhrr' + year + str(day_of_year) + '.txt'\n",
    "\n",
    "    # reading in electron counts files:\n",
    "    t_electrons, r1, r2, r3, r4 = read(year + '_data\\\\' + file)\n",
    "\n",
    "    # reading in orbit/attitude data file\n",
    "    OrbAtt_mask = []\n",
    "    for i in np.arange(len(OrbAtt_names)):\n",
    "        OrbAtt_mask.append(day_of_year >= int(OrbAtt_names[i][21:24]) and day_of_year <= int(OrbAtt_names[i][29:32]))\n",
    "        \n",
    "    OA_file = OrbAtt_names[OrbAtt_mask][0]\n",
    "    \n",
    "    directory = 'E:\\SAMPEX_Data\\\\' + year + '_data\\\\'\n",
    "    OrbAtt_file = pd.read_csv(directory + OA_file, names = ['day', 'hr', 'min', 'sec', 'GEO_Radius', 'GEO_Long', 'GEO_Lat', 'Altitude', \n",
    "                                                            'L_Shell', 'MLT', 'SAA_Flag', 'Pitch', 'zenith', 'azimuth', 'Att_Flag'], sep = '\\s+', header = 70)\n",
    "    \n",
    "    # Augment OrbAtt data to fit counts data\n",
    "    t_OrbAtt, LS_OrbAtt, MLT_OrbAtt, P_OrbAtt, Lat_OrbAtt, Long_OrbAtt, R_OrbAtt, t_electrons, r1, r2, r3, r4 = OrbAtt_augment_loop(t_electrons, r1, r2, r3, r4, OrbAtt_file, day_of_year)   \n",
    "    \n",
    "    # find microburst times and N_100, SSD1, SSD4 counts using algorithm\n",
    "    t_microburst, N_100_microburst, r1_microburst, r4_microburst, mb_index, MB_mask, N_100, A_500 = mb_finder(t_electrons, r1, r2, r3, r4)\n",
    "\n",
    "    # create background counts mask\n",
    "    BG_mask = ~MB_mask\n",
    "\n",
    "    # calculation of the isotropy indices of electron counts\n",
    "    iso_indices_MB = iso_calculator(r1[MB_mask], r4[MB_mask])\n",
    "    iso_indices_BG = iso_calculator(r1[BG_mask], r4[BG_mask])\n",
    "\n",
    "    # find the OrbAtt microburst parameters\n",
    "    if len(mb_index) > 0:\n",
    "        t_OrbAtt_mb = t_OrbAtt[mb_index]; LS_OrbAtt_mb = LS_OrbAtt[mb_index]; MLT_OrbAtt_mb = MLT_OrbAtt[mb_index];\n",
    "        P_OrbAtt_mb = P_OrbAtt[mb_index]; Lat_OrbAtt_mb = Lat_OrbAtt[mb_index]; Long_OrbAtt_mb = Long_OrbAtt[mb_index];\n",
    "        R_OrbAtt_mb = R_OrbAtt[mb_index]\n",
    "\n",
    "    # calculation of B_3 bin percentiles\n",
    "    y_microburst, B_3_microburst, B_3 = mb_magnitude(N_100, N_100_microburst, A_500)\n",
    "    \n",
    "    y = N_100 - B_3\n",
    "    y_background = y[BG_mask]   \n",
    "    \n",
    "    ###### MICROBURST ISO vs PARAMETERS #######\n",
    "    # Create histograms for day #\n",
    "    if len(mb_index) > 0:\n",
    "\n",
    "        H_PAvMLT_MB_day, _, _ = np.histogram2d(MLT_OrbAtt_mb, P_OrbAtt_mb, bins=[MLT_bins, PA_bins])\n",
    "    \n",
    "        # Add histograms for day # to cumulative histograms\n",
    "        H_PAvMLT_MB += H_PAvMLT_MB_day\n",
    "    \n",
    "    ###### BACKGROUND ISO vs PARAMETERS #######\n",
    "    # Create histograms for day #\n",
    "    H_PAvMLT_BG_day, _, _ = np.histogram2d(MLT_OrbAtt[BG_mask], P_OrbAtt[BG_mask], bins=[MLT_bins, PA_bins])\n",
    "    \n",
    "    # Add histograms for day # to cumulative histograms\n",
    "    H_PAvMLT_BG += H_PAvMLT_BG_day"
   ]
  },
  {
   "cell_type": "code",
   "execution_count": 1,
   "metadata": {},
   "outputs": [
    {
     "ename": "NameError",
     "evalue": "name 'plt' is not defined",
     "output_type": "error",
     "traceback": [
      "\u001b[1;31m---------------------------------------------------------------------------\u001b[0m",
      "\u001b[1;31mNameError\u001b[0m                                 Traceback (most recent call last)",
      "\u001b[1;32m<ipython-input-1-d7a7d91e1f08>\u001b[0m in \u001b[0;36m<module>\u001b[1;34m\u001b[0m\n\u001b[1;32m----> 1\u001b[1;33m \u001b[0mplt\u001b[0m\u001b[1;33m.\u001b[0m\u001b[0mfigure\u001b[0m\u001b[1;33m(\u001b[0m\u001b[0mfigsize\u001b[0m\u001b[1;33m=\u001b[0m\u001b[1;33m(\u001b[0m\u001b[1;36m7\u001b[0m\u001b[1;33m,\u001b[0m \u001b[1;36m10\u001b[0m\u001b[1;33m)\u001b[0m\u001b[1;33m)\u001b[0m\u001b[1;33m\u001b[0m\u001b[1;33m\u001b[0m\u001b[0m\n\u001b[0m\u001b[0;32m      2\u001b[0m \u001b[0mplt\u001b[0m\u001b[1;33m.\u001b[0m\u001b[0mtitle\u001b[0m\u001b[1;33m(\u001b[0m\u001b[1;34mf'Spacecraft Pitch Angle vs MLT (Microbursts)'\u001b[0m\u001b[1;33m)\u001b[0m\u001b[1;33m\u001b[0m\u001b[1;33m\u001b[0m\u001b[0m\n\u001b[0;32m      3\u001b[0m \u001b[0mp_PAvMLT_MB\u001b[0m \u001b[1;33m=\u001b[0m \u001b[0mplt\u001b[0m\u001b[1;33m.\u001b[0m\u001b[0mpcolormesh\u001b[0m\u001b[1;33m(\u001b[0m\u001b[0mMLT_bins\u001b[0m\u001b[1;33m,\u001b[0m \u001b[0mPA_bins\u001b[0m\u001b[1;33m,\u001b[0m \u001b[0mH_PAvMLT_MB\u001b[0m\u001b[1;33m.\u001b[0m\u001b[0mT\u001b[0m\u001b[1;33m,\u001b[0m \u001b[0mvmin\u001b[0m\u001b[1;33m=\u001b[0m\u001b[1;36m0\u001b[0m\u001b[1;33m)\u001b[0m\u001b[1;33m\u001b[0m\u001b[1;33m\u001b[0m\u001b[0m\n\u001b[0;32m      4\u001b[0m \u001b[0mplt\u001b[0m\u001b[1;33m.\u001b[0m\u001b[0mcolorbar\u001b[0m\u001b[1;33m(\u001b[0m\u001b[0mp_PAvMLT_MB\u001b[0m\u001b[1;33m,\u001b[0m \u001b[0morientation\u001b[0m\u001b[1;33m=\u001b[0m\u001b[1;34m'horizontal'\u001b[0m\u001b[1;33m,\u001b[0m \u001b[0mlabel\u001b[0m\u001b[1;33m=\u001b[0m\u001b[1;34m'Number of microbursts'\u001b[0m\u001b[1;33m)\u001b[0m\u001b[1;33m\u001b[0m\u001b[1;33m\u001b[0m\u001b[0m\n\u001b[0;32m      5\u001b[0m \u001b[0mplt\u001b[0m\u001b[1;33m.\u001b[0m\u001b[0mxlabel\u001b[0m\u001b[1;33m(\u001b[0m\u001b[1;34m'MLT'\u001b[0m\u001b[1;33m)\u001b[0m\u001b[1;33m\u001b[0m\u001b[1;33m\u001b[0m\u001b[0m\n",
      "\u001b[1;31mNameError\u001b[0m: name 'plt' is not defined"
     ]
    }
   ],
   "source": [
    "plt.figure(figsize=(7, 10))\n",
    "plt.title(f'Spacecraft Pitch Angle vs MLT (Microbursts)')\n",
    "p_PAvMLT_MB = plt.pcolormesh(MLT_bins, PA_bins, H_PAvMLT_MB.T, vmin=0)\n",
    "plt.colorbar(p_PAvMLT_MB, orientation='horizontal', label='Number of microbursts')\n",
    "plt.xlabel('MLT')\n",
    "plt.ylabel('Pitch Angle')\n",
    "plt.show()\n",
    "\n",
    "plt.figure(figsize=(7, 10))\n",
    "plt.title(f'Spacecraft Pitch Angle vs MLT (Background)')\n",
    "p_PAvMLT_BG = plt.pcolormesh(MLT_bins, PA_bins, H_PAvMLT_BG.T, vmin=0)\n",
    "plt.colorbar(p_PAvMLT_BG, orientation='horizontal', label='Number of occurances')\n",
    "plt.xlabel('MLT')\n",
    "plt.ylabel('Pitch Angle')\n",
    "plt.show()"
   ]
  },
  {
   "cell_type": "code",
   "execution_count": null,
   "metadata": {},
   "outputs": [],
   "source": []
  }
 ],
 "metadata": {
  "kernelspec": {
   "display_name": "Python 3",
   "language": "python",
   "name": "python3"
  },
  "language_info": {
   "codemirror_mode": {
    "name": "ipython",
    "version": 3
   },
   "file_extension": ".py",
   "mimetype": "text/x-python",
   "name": "python",
   "nbconvert_exporter": "python",
   "pygments_lexer": "ipython3",
   "version": "3.8.3"
  }
 },
 "nbformat": 4,
 "nbformat_minor": 4
}
